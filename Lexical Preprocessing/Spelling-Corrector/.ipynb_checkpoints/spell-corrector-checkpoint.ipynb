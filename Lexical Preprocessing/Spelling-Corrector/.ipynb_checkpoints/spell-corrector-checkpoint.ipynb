{
 "cells": [
  {
   "cell_type": "code",
   "execution_count": 21,
   "metadata": {},
   "outputs": [],
   "source": [
    "import re\n",
    "from collections import Counter"
   ]
  },
  {
   "cell_type": "code",
   "execution_count": 2,
   "metadata": {},
   "outputs": [],
   "source": [
    "# function to tokenise words\n",
    "def words(document):\n",
    "    \"Convert text to lower case and tokenise the document\"\n",
    "    return re.findall(r'\\w+', document.lower())"
   ]
  },
  {
   "cell_type": "code",
   "execution_count": 3,
   "metadata": {},
   "outputs": [],
   "source": [
    "# create a frequency table of all the words of the document\n",
    "all_words = Counter(words(open('ebook_seeddoc.txt').read()))"
   ]
  },
  {
   "cell_type": "code",
   "execution_count": 4,
   "metadata": {},
   "outputs": [
    {
     "data": {
      "text/plain": [
       "135"
      ]
     },
     "execution_count": 4,
     "metadata": {},
     "output_type": "execute_result"
    }
   ],
   "source": [
    "# check frequency of a random word, say, 'chair'\n",
    "all_words['chair']"
   ]
  },
  {
   "cell_type": "code",
   "execution_count": 5,
   "metadata": {},
   "outputs": [
    {
     "data": {
      "text/plain": [
       "[('the', 79809),\n",
       " ('of', 40024),\n",
       " ('and', 38311),\n",
       " ('to', 28765),\n",
       " ('in', 22020),\n",
       " ('a', 21124),\n",
       " ('that', 12512),\n",
       " ('he', 12401),\n",
       " ('was', 11410),\n",
       " ('it', 10681)]"
      ]
     },
     "execution_count": 5,
     "metadata": {},
     "output_type": "execute_result"
    }
   ],
   "source": [
    "# look at top 10 frequent words\n",
    "all_words.most_common(10)"
   ]
  },
  {
   "cell_type": "code",
   "execution_count": 6,
   "metadata": {},
   "outputs": [],
   "source": [
    "def edits_one(word):\n",
    "    \"Create all edits that are one edit away from `word`.\"\n",
    "    alphabets    = 'abcdefghijklmnopqrstuvwxyz'\n",
    "    splits     = [(word[:i], word[i:])                   for i in range(len(word) + 1)]\n",
    "    deletes    = [left + right[1:]                       for left, right in splits if right]\n",
    "    inserts    = [left + c + right                       for left, right in splits for c in alphabets]\n",
    "    replaces   = [left + c + right[1:]                   for left, right in splits if right for c in alphabets]\n",
    "    transposes = [left + right[1] + right[0] + right[2:] for left, right in splits if len(right)>1]\n",
    "    return set(deletes + inserts + replaces + transposes)"
   ]
  },
  {
   "cell_type": "code",
   "execution_count": 7,
   "metadata": {},
   "outputs": [],
   "source": [
    "def edits_two(word):\n",
    "    \"Create all edits that are two edits away from `word`.\"\n",
    "    return (e2 for e1 in edits_one(word) for e2 in edits_one(e1))"
   ]
  },
  {
   "cell_type": "code",
   "execution_count": 8,
   "metadata": {},
   "outputs": [],
   "source": [
    "def known(words):\n",
    "    \"The subset of `words` that appear in the `all_words`.\"\n",
    "    return set(word for word in words if word in all_words)"
   ]
  },
  {
   "cell_type": "code",
   "execution_count": 9,
   "metadata": {},
   "outputs": [],
   "source": [
    "def possible_corrections(word):\n",
    "    \"Generate possible spelling corrections for word.\"\n",
    "    return (known([word]) or known(edits_one(word)) or known(edits_two(word)) or [word])"
   ]
  },
  {
   "cell_type": "code",
   "execution_count": 10,
   "metadata": {},
   "outputs": [],
   "source": [
    "def prob(word, N=sum(all_words.values())): \n",
    "    \"Probability of `word`: Number of appearances of 'word' / total number of tokens\"\n",
    "    return all_words[word] / N"
   ]
  },
  {
   "cell_type": "code",
   "execution_count": 11,
   "metadata": {},
   "outputs": [
    {
     "name": "stdout",
     "output_type": "stream",
     "text": [
      "336\n",
      "{'rmonney', 'mbnney', 'mondney', 'mfnney', 'mocnney', 'monnfey', 'moeney', 'monmney', 'motney', 'cmonney', 'monneg', 'monnvey', 'monnaey', 'monnejy', 'mongney', 'monjey', 'monnev', 'monnexy', 'monneay', 'moxney', 'monnjey', 'moneney', 'monnwy', 'mnoney', 'monnry', 'jonney', 'monnety', 'mjnney', 'monneky', 'lonney', 'wonney', 'monzney', 'monngy', 'fonney', 'mobnney', 'monnedy', 'mhnney', 'monneny', 'mconney', 'mofney', 'bonney', 'mooney', 'eonney', 'morney', 'mknney', 'montney', 'mronney', 'monneye', 'mognney', 'monngey', 'honney', 'monjney', 'moenney', 'pmonney', 'mmonney', 'smonney', 'mojney', 'monyey', 'mwnney', 'meonney', 'ymonney', 'monbney', 'monrney', 'monnezy', 'manney', 'monnxey', 'donney', 'mononey', 'moaney', 'monneyu', 'monnby', 'monnehy', 'amonney', 'monneyp', 'monnes', 'monnzey', 'uonney', 'monnea', 'monniy', 'qmonney', 'momnney', 'mrnney', 'monnemy', 'gmonney', 'hmonney', 'mogney', 'maonney', 'monnwey', 'monneyt', 'monneym', 'monnet', 'mornney', 'monnek', 'bmonney', 'monneya', 'monneyi', 'monneyz', 'monnfy', 'modney', 'moonney', 'monnecy', 'moxnney', 'mznney', 'monneb', 'xonney', 'moknney', 'monneyn', 'monneyo', 'monneyy', 'monnqy', 'mzonney', 'monneu', 'monneyl', 'monnez', 'monnuey', 'konney', 'mdnney', 'monqey', 'moniey', 'mtonney', 'zmonney', 'msonney', 'mozney', 'monneey', 'monncey', 'monkey', 'monndey', 'yonney', 'mowney', 'monneuy', 'nmonney', 'monneoy', 'monnee', 'monneyc', 'mjonney', 'moniney', 'monnewy', 'monnzy', 'mopnney', 'wmonney', 'monneby', 'monnsy', 'monner', 'monne', 'mnnney', 'monneyf', 'monnrey', 'monnye', 'monpney', 'monvney', 'mvonney', 'montey', 'monnec', 'mnney', 'monneyk', 'mmnney', 'monnyy', 'mionney', 'ionney', 'monnky', 'monnej', 'monnley', 'mgonney', 'monnely', 'monnel', 'monnxy', 'monniey', 'monneyv', 'monneyh', 'omonney', 'moynney', 'moncey', 'monnepy', 'conney', 'monnew', 'momney', 'monzey', 'monncy', 'mtnney', 'mynney', 'monaney', 'monneyq', 'monnoey', 'monmey', 'mokney', 'monnem', 'mnonney', 'monwey', 'monnkey', 'mvnney', 'monneyb', 'minney', 'monnefy', 'monnhy', 'motnney', 'monlney', 'msnney', 'monnjy', 'monnen', 'monneyj', 'mdonney', 'mocney', 'monhney', 'omnney', 'lmonney', 'monndy', 'monnny', 'moneey', 'fmonney', 'monqney', 'monnef', 'movney', 'mxonney', 'mohnney', 'mponney', 'kmonney', 'mlnney', 'moinney', 'monnmey', 'monneo', 'money', 'umonney', 'mqnney', 'monfey', 'munney', 'ponney', 'mouney', 'moncney', 'monnney', 'moanney', 'monbey', 'mwonney', 'monwney', 'emonney', 'onney', 'monnpey', 'mlonney', 'monoey', 'monnoy', 'menney', 'monsey', 'sonney', 'monnyey', 'myonney', 'monneyr', 'monnhey', 'monnsey', 'monney', 'monaey', 'moqney', 'modnney', 'mxnney', 'moznney', 'monneyw', 'molney', 'mojnney', 'moneny', 'mownney', 'vonney', 'aonney', 'muonney', 'movnney', 'mkonney', 'moyney', 'gonney', 'oonney', 'monnty', 'monnly', 'mgnney', 'mounney', 'monnesy', 'monneqy', 'monneq', 'monnbey', 'monley', 'monneyg', 'vmonney', 'mopney', 'mhonney', 'monxney', 'mosnney', 'monneyx', 'monrey', 'monnex', 'mongey', 'monnegy', 'mqonney', 'monpey', 'monkney', 'moqnney', 'monny', 'ronney', 'monfney', 'mohney', 'mpnney', 'monnay', 'qonney', 'mbonney', 'zonney', 'monnei', 'mondey', 'mofnney', 'monxey', 'monvey', 'nonney', 'monnuy', 'monnep', 'dmonney', 'monneys', 'tmonney', 'moiney', 'monnqey', 'monneiy', 'monnpy', 'mobney', 'jmonney', 'monsney', 'monneh', 'imonney', 'monyney', 'monhey', 'xmonney', 'monnery', 'monnevy', 'mosney', 'monned', 'tonney', 'mcnney', 'monneyd', 'mfonney', 'monuey', 'molnney', 'monnmy', 'monnvy', 'monntey', 'monuney'}\n"
     ]
    }
   ],
   "source": [
    "print(len(set(edits_one(\"monney\"))))\n",
    "print(edits_one(\"monney\"))"
   ]
  },
  {
   "cell_type": "code",
   "execution_count": 12,
   "metadata": {},
   "outputs": [
    {
     "name": "stdout",
     "output_type": "stream",
     "text": [
      "{'money', 'monkey'}\n"
     ]
    }
   ],
   "source": [
    "print(known(edits_one(\"monney\")))"
   ]
  },
  {
   "cell_type": "code",
   "execution_count": 13,
   "metadata": {},
   "outputs": [
    {
     "name": "stdout",
     "output_type": "stream",
     "text": [
      "51013\n",
      "{'money', 'monkey'}\n"
     ]
    }
   ],
   "source": [
    "# Let's look at words that are two edits away\n",
    "print(len(set(edits_two(\"monney\"))))\n",
    "print(known(edits_one(\"monney\")))"
   ]
  },
  {
   "cell_type": "code",
   "execution_count": 14,
   "metadata": {},
   "outputs": [
    {
     "name": "stdout",
     "output_type": "stream",
     "text": [
      "{'money', 'monkey'}\n"
     ]
    }
   ],
   "source": [
    "# Let's look at possible corrections of a word\n",
    "print(possible_corrections(\"monney\"))"
   ]
  },
  {
   "cell_type": "code",
   "execution_count": 15,
   "metadata": {},
   "outputs": [
    {
     "name": "stdout",
     "output_type": "stream",
     "text": [
      "0.0002922385563056744\n",
      "5.378623735687258e-06\n"
     ]
    }
   ],
   "source": [
    "# Let's look at probability of a word\n",
    "print(prob(\"money\"))\n",
    "print(prob(\"monkey\"))"
   ]
  },
  {
   "cell_type": "code",
   "execution_count": 16,
   "metadata": {},
   "outputs": [],
   "source": [
    "def spell_check(word):\n",
    "    \"Print the most probable spelling correction for `word` out of all the `possible_corrections`\"\n",
    "    correct_word = max(possible_corrections(word), key=prob)\n",
    "    if correct_word != word:\n",
    "        return \"Did you mean \" + correct_word + \"?\"\n",
    "    else:\n",
    "        return \"Correct spelling.\""
   ]
  },
  {
   "cell_type": "code",
   "execution_count": 20,
   "metadata": {},
   "outputs": [
    {
     "name": "stdout",
     "output_type": "stream",
     "text": [
      "Did you mean money?\n"
     ]
    }
   ],
   "source": [
    "# test spell check\n",
    "print(spell_check(\"monney\"))"
   ]
  },
  {
   "cell_type": "code",
   "execution_count": null,
   "metadata": {},
   "outputs": [],
   "source": []
  }
 ],
 "metadata": {
  "kernelspec": {
   "display_name": "Python 3 (ipykernel)",
   "language": "python",
   "name": "python3"
  },
  "language_info": {
   "codemirror_mode": {
    "name": "ipython",
    "version": 3
   },
   "file_extension": ".py",
   "mimetype": "text/x-python",
   "name": "python",
   "nbconvert_exporter": "python",
   "pygments_lexer": "ipython3",
   "version": "3.12.4"
  }
 },
 "nbformat": 4,
 "nbformat_minor": 4
}
