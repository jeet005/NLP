{
 "cells": [
  {
   "cell_type": "markdown",
   "id": "2a6fec58-9d97-42f9-8af7-f4c6085b14b9",
   "metadata": {},
   "source": [
    "# Tokenisation\n",
    "\n",
    "There are mainly 3 types of tokenisation techniques used as mentioned below:\n",
    "1. Word tokenisation\n",
    "2. Sentence tokenisation\n",
    "3. Tweet tokenisation\n",
    "4. Custom tokenisation using regular expressions"
   ]
  },
  {
   "cell_type": "markdown",
   "id": "475a5f4c-97e6-45db-a8ec-111ba7e5357f",
   "metadata": {},
   "source": [
    "### 1. Word Tokenisation"
   ]
  },
  {
   "cell_type": "code",
   "execution_count": 12,
   "id": "9e0aeafe-0bb6-41bd-a95f-9cef8b143082",
   "metadata": {},
   "outputs": [
    {
     "name": "stdout",
     "output_type": "stream",
     "text": [
      "God, a concept deeply ingrained in human consciousness, represents the ultimate mystery, the source of creation, and the embodiment of divine love and wisdom. Across cultures and beliefs, interpretations vary, yet the essence remains: a force beyond comprehension, guiding, comforting, and inspiring humanity on its journey through existence.\n"
     ]
    }
   ],
   "source": [
    "doc = \"God, a concept deeply ingrained in human consciousness, represents the ultimate mystery, the source of creation, and the embodiment of divine love and wisdom. Across cultures and beliefs, interpretations vary, yet the essence remains: a force beyond comprehension, guiding, comforting, and inspiring humanity on its journey through existence.\"\n",
    "print(doc)"
   ]
  },
  {
   "cell_type": "code",
   "execution_count": 13,
   "id": "d06274e6-23f7-4931-8151-2714c2e17407",
   "metadata": {},
   "outputs": [
    {
     "name": "stdout",
     "output_type": "stream",
     "text": [
      "['God,', 'a', 'concept', 'deeply', 'ingrained', 'in', 'human', 'consciousness,', 'represents', 'the', 'ultimate', 'mystery,', 'the', 'source', 'of', 'creation,', 'and', 'the', 'embodiment', 'of', 'divine', 'love', 'and', 'wisdom.', 'Across', 'cultures', 'and', 'beliefs,', 'interpretations', 'vary,', 'yet', 'the', 'essence', 'remains:', 'a', 'force', 'beyond', 'comprehension,', 'guiding,', 'comforting,', 'and', 'inspiring', 'humanity', 'on', 'its', 'journey', 'through', 'existence.']\n"
     ]
    }
   ],
   "source": [
    "print(doc.split())"
   ]
  },
  {
   "cell_type": "markdown",
   "id": "eff3d055-c233-4ca6-ae4d-db609b891cf4",
   "metadata": {},
   "source": [
    "#### NLTK Tokenizer using word tokeniser"
   ]
  },
  {
   "cell_type": "code",
   "execution_count": 14,
   "id": "acec63b8-0729-4234-ad2d-e5543a1813f0",
   "metadata": {},
   "outputs": [],
   "source": [
    "import nltk\n",
    "from nltk.tokenize import word_tokenize\n",
    "words = word_tokenize(doc)"
   ]
  },
  {
   "cell_type": "code",
   "execution_count": 15,
   "id": "e2bf4055-d8c9-49e8-83f5-0803bbe92216",
   "metadata": {},
   "outputs": [
    {
     "name": "stdout",
     "output_type": "stream",
     "text": [
      "['God', ',', 'a', 'concept', 'deeply', 'ingrained', 'in', 'human', 'consciousness', ',', 'represents', 'the', 'ultimate', 'mystery', ',', 'the', 'source', 'of', 'creation', ',', 'and', 'the', 'embodiment', 'of', 'divine', 'love', 'and', 'wisdom', '.', 'Across', 'cultures', 'and', 'beliefs', ',', 'interpretations', 'vary', ',', 'yet', 'the', 'essence', 'remains', ':', 'a', 'force', 'beyond', 'comprehension', ',', 'guiding', ',', 'comforting', ',', 'and', 'inspiring', 'humanity', 'on', 'its', 'journey', 'through', 'existence', '.']\n"
     ]
    }
   ],
   "source": [
    "print(words)"
   ]
  },
  {
   "cell_type": "markdown",
   "id": "92381fb8-ac0c-463f-9791-980a1fccb6ba",
   "metadata": {},
   "source": [
    "### 2. Sentence Tokenizer"
   ]
  },
  {
   "cell_type": "code",
   "execution_count": 29,
   "id": "8d97c018-f2cf-446c-acbb-0e082c40f26d",
   "metadata": {},
   "outputs": [
    {
     "name": "stdout",
     "output_type": "stream",
     "text": [
      "['God, a concept deeply ingrained in human consciousness, represents the ultimate mystery, the source of creation, and the embodiment of divine love and wisdom.', 'Across cultures and beliefs, interpretations vary, yet the essence remains: a force beyond comprehension, guiding, comforting, and inspiring humanity on its journey through existence.']\n"
     ]
    }
   ],
   "source": [
    "from nltk.tokenize import sent_tokenize\n",
    "sentences = sent_tokenize(doc)\n",
    "print(sentences)"
   ]
  },
  {
   "cell_type": "code",
   "execution_count": 30,
   "id": "66a46579-0ec0-4d3d-955c-c9829cc09bc6",
   "metadata": {},
   "outputs": [],
   "source": [
    "msg = \"i recently watched this show called mindhunters:). i totally loved it 😍. it was gr8 <3. #bingewatching #nothingtodo 😎\""
   ]
  },
  {
   "cell_type": "code",
   "execution_count": 31,
   "id": "353e4774-0720-49e3-ad90-690905ac1527",
   "metadata": {},
   "outputs": [
    {
     "name": "stdout",
     "output_type": "stream",
     "text": [
      "['i', 'recently', 'watched', 'this', 'show', 'called', 'mindhunters', ':', ')', '.', 'i', 'totally', 'loved', 'it', '😍', '.', 'it', 'was', 'gr8', '<', '3', '.', '#', 'bingewatching', '#', 'nothingtodo', '😎']\n"
     ]
    }
   ],
   "source": [
    "print(word_tokenize(msg))"
   ]
  },
  {
   "cell_type": "markdown",
   "id": "569eb49b-5caa-4870-99d6-1ae9783b65e1",
   "metadata": {},
   "source": [
    "### 3. Tweet Tokenizer"
   ]
  },
  {
   "cell_type": "code",
   "execution_count": 32,
   "id": "748f1f40-3745-450e-b980-a161487463e3",
   "metadata": {},
   "outputs": [],
   "source": [
    "from nltk.tokenize import TweetTokenizer\n",
    "twtTkn = TweetTokenizer()"
   ]
  },
  {
   "cell_type": "code",
   "execution_count": 33,
   "id": "35c0108e-67fe-4aec-8784-c190dfe7631e",
   "metadata": {},
   "outputs": [
    {
     "data": {
      "text/plain": [
       "['i',\n",
       " 'recently',\n",
       " 'watched',\n",
       " 'this',\n",
       " 'show',\n",
       " 'called',\n",
       " 'mindhunters',\n",
       " ':)',\n",
       " '.',\n",
       " 'i',\n",
       " 'totally',\n",
       " 'loved',\n",
       " 'it',\n",
       " '😍',\n",
       " '.',\n",
       " 'it',\n",
       " 'was',\n",
       " 'gr8',\n",
       " '<3',\n",
       " '.',\n",
       " '#bingewatching',\n",
       " '#nothingtodo',\n",
       " '😎']"
      ]
     },
     "execution_count": 33,
     "metadata": {},
     "output_type": "execute_result"
    }
   ],
   "source": [
    "twtTkn.tokenize(message)"
   ]
  },
  {
   "cell_type": "code",
   "execution_count": 34,
   "id": "0ec473d8-02d7-4c3d-a1b0-d789241d9ed9",
   "metadata": {},
   "outputs": [],
   "source": [
    "### 4. Regex Tokenizer"
   ]
  },
  {
   "cell_type": "code",
   "execution_count": 35,
   "id": "5c6beb4c-7d9a-4ac0-86e8-890fff6d62e1",
   "metadata": {},
   "outputs": [],
   "source": [
    "from nltk.tokenize import regexp_tokenize\n",
    "message = \"i recently watched this show called mindhunters:). i totally loved it 😍. it was gr8 <3. #bingewatching #nothingtodo 😎\"\n",
    "pattern = \"#[\\w]+\""
   ]
  },
  {
   "cell_type": "code",
   "execution_count": 36,
   "id": "ac8f53fd-ed17-4699-8b0d-8d0ef8afcc6a",
   "metadata": {},
   "outputs": [
    {
     "data": {
      "text/plain": [
       "['#bingewatching', '#nothingtodo']"
      ]
     },
     "execution_count": 36,
     "metadata": {},
     "output_type": "execute_result"
    }
   ],
   "source": [
    "regexp_tokenize(message, pattern)"
   ]
  },
  {
   "cell_type": "code",
   "execution_count": null,
   "id": "20ee989d-e324-439d-bf6d-2f4218317345",
   "metadata": {},
   "outputs": [],
   "source": []
  }
 ],
 "metadata": {
  "kernelspec": {
   "display_name": "Python 3 (ipykernel)",
   "language": "python",
   "name": "python3"
  },
  "language_info": {
   "codemirror_mode": {
    "name": "ipython",
    "version": 3
   },
   "file_extension": ".py",
   "mimetype": "text/x-python",
   "name": "python",
   "nbconvert_exporter": "python",
   "pygments_lexer": "ipython3",
   "version": "3.11.5"
  }
 },
 "nbformat": 4,
 "nbformat_minor": 5
}
