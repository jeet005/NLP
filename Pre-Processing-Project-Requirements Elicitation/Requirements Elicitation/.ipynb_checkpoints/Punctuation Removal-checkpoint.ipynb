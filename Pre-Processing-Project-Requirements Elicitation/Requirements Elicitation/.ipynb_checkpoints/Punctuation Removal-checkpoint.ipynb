{
 "cells": [
  {
   "cell_type": "markdown",
   "id": "dd3ed820-4cc1-46b3-85bb-866b2a72debf",
   "metadata": {},
   "source": [
    "## Punctuation Removal"
   ]
  },
  {
   "cell_type": "code",
   "execution_count": 4,
   "id": "6c210957-d07e-49da-af73-7d467800070a",
   "metadata": {},
   "outputs": [
    {
     "name": "stdout",
     "output_type": "stream",
     "text": [
      "Original Text:\n",
      "Hello, world! This is a sample text with punctuation marks.\n",
      "\n",
      "Text without Punctuation:\n",
      "Hello world This is a sample text with punctuation marks\n"
     ]
    }
   ],
   "source": [
    "import re\n",
    "\n",
    "def punctuation_removal(text):\n",
    "    \"\"\"Remove punctuation marks from text\"\"\"\n",
    "    return re.sub(r'[^\\w\\s]', '', text)\n",
    "\n",
    "# Example text with punctuation\n",
    "sample_text = \"Hello, world! This is a sample text with punctuation marks.\"\n",
    "\n",
    "# Remove punctuation\n",
    "filtered_text = punctuation_removal(sample_text)\n",
    "\n",
    "# Print original and modified text\n",
    "print(\"Original Text:\")\n",
    "print(sample_text)\n",
    "print(\"\\nText without Punctuation:\")\n",
    "print(filtered_text)"
   ]
  },
  {
   "cell_type": "code",
   "execution_count": null,
   "id": "7361ca8c-31a8-46e6-94ee-270c38d5d3e1",
   "metadata": {},
   "outputs": [],
   "source": []
  }
 ],
 "metadata": {
  "kernelspec": {
   "display_name": "Python 3 (ipykernel)",
   "language": "python",
   "name": "python3"
  },
  "language_info": {
   "codemirror_mode": {
    "name": "ipython",
    "version": 3
   },
   "file_extension": ".py",
   "mimetype": "text/x-python",
   "name": "python",
   "nbconvert_exporter": "python",
   "pygments_lexer": "ipython3",
   "version": "3.11.5"
  }
 },
 "nbformat": 4,
 "nbformat_minor": 5
}
